{
 "cells": [
  {
   "cell_type": "markdown",
   "id": "94e64538-ee6e-4410-a66a-ba03ed0fef88",
   "metadata": {},
   "source": [
    "### Repeating actions with loops\n",
    "#### Motivation\n",
    "In the visualization part, we discovered some suspicious features in the dataset *(inflammation-01.csv)*.\n",
    "\n",
    "<img src=\"inflammation-01-group-plot.svg\" width=\"600\">\n",
    "\n",
    "We have a dozen data sets with data from the clinical trial. We want to create plots for all datasets with a single statement, i.e., without repeating the code for each data set. \n"
   ]
  },
  {
   "cell_type": "markdown",
   "id": "53d5ce56-f5cb-4429-a691-9d8abcd6e1aa",
   "metadata": {},
   "source": [
    "#### Python loops\n",
    "In Python, a list is an ordered collection of elements and every element has an *index* associated with it.\n",
    "For example, we can print all the elements of the odds list as follows:\n",
    "```\n",
    "odds = [1,3,5,7]\n",
    "print(odds[0])\n",
    "print(odds[1])\n",
    "print(odds[2])\n",
    "print(odds[3])\n",
    "```\n",
    "This is a bad approach for three reasons:\n",
    "\n",
    "<ol>\n",
    "    <li><b>Not scalable</b>. Imagine you need to print a list that has hundreds of elements. It might be easier to type them in manually.</li>\n",
    "    <li><b>Difficult to maintain</b>. If we want to decorate each printed element with an asterisk or any other character, we would have to change four lines of code. While this might not be a problem for small lists, it would definitely be a problem for longer ones.</li>\n",
    "    <li><b>Fragile</b>. If we use it with a list that has more elements than what we initially envisioned, it will only display part of the list’s elements. A shorter list, on the other hand, will cause an error because it will be trying to display elements of the list that do not exist.</li>\n",
    "</ol>\n",
    "\n",
    "A **for loop* is a better approach as can be seen in the next cell"
   ]
  },
  {
   "cell_type": "code",
   "execution_count": null,
   "id": "9878e191-9886-41d1-9dc4-d49478f40531",
   "metadata": {},
   "outputs": [],
   "source": [
    "# write here the code to print each member of a list\n"
   ]
  },
  {
   "cell_type": "markdown",
   "id": "229251a2-aa0d-4277-963e-77e2ed227152",
   "metadata": {},
   "source": [
    "The general form of a **for loop** is: \n",
    "```\n",
    "for variable in collection:\n",
    "    # do things\n",
    "```\n",
    "We can call the **loop variable** anything we like, but there must be a colon at the end of the line starting the loop, and we must indent anything we want to run inside the loop. Unlike many other languages, there is no command to signify the end of the loop body (e.g. end for); everything indented after the for statement belongs to the loop."
   ]
  },
  {
   "cell_type": "code",
   "execution_count": null,
   "id": "724242fc-9656-47fa-8345-d15bbbb66d7f",
   "metadata": {},
   "outputs": [],
   "source": [
    "# write here the code to use a different name for the loop variable\n"
   ]
  },
  {
   "cell_type": "markdown",
   "id": "7d1954fc-eefd-49d8-b7a9-c8e618462a6a",
   "metadata": {},
   "source": [
    "*Exercise*\n",
    "\n",
    "__From 1 to N__\n",
    "\n",
    "Python has a built-in function called range that generates a sequence of numbers. range can accept 1, 2, or 3 parameters.\n",
    "\n",
    "If one parameter is given, range generates a sequence of that length, starting at zero and incrementing by 1. For example, range(3) produces the numbers 0, 1, 2.\n",
    "If two parameters are given, range starts at the first and ends just before the second, incrementing by one. For example, range(2, 5) produces 2, 3, 4.\n",
    "If range is given 3 parameters, it starts at the first one, ends just before the second one, and increments by the third one. For example, range(3, 10, 2) produces 3, 5, 7, 9.\n",
    "Using range, write a loop that prints the first 3 natural numbers:"
   ]
  },
  {
   "cell_type": "code",
   "execution_count": null,
   "id": "57bd618c-e966-4128-9a9a-01d566f12d2f",
   "metadata": {},
   "outputs": [],
   "source": [
    "# write the code here\n"
   ]
  },
  {
   "cell_type": "markdown",
   "id": "c4d766fa-e3fb-4189-ba62-81f19a6f9aa9",
   "metadata": {},
   "source": [
    "*Exponentiation*\n",
    "The exponentiation can be computed using <b>**</b>. \n",
    "\n",
    "5<b>**</b>3 = 125\n",
    "\n",
    "We can use loops to achieve the same"
   ]
  },
  {
   "cell_type": "code",
   "execution_count": null,
   "id": "bf024f34-16a1-4967-8cdf-773cca6b4d3c",
   "metadata": {},
   "outputs": [],
   "source": [
    "# write the code here to compute the exponentiation, print the result\n"
   ]
  },
  {
   "cell_type": "code",
   "execution_count": null,
   "id": "bb709ccc-1a8e-4182-a056-20f6643d9a37",
   "metadata": {},
   "outputs": [],
   "source": [
    "# write the code here to show the sum of a list l = [124, 402, 36]\n"
   ]
  },
  {
   "cell_type": "markdown",
   "id": "bea3ac84-c529-4a35-8203-72fdaaf97e6f",
   "metadata": {},
   "source": [
    "#### Enumeration\n",
    "The built-in function enumerate takes a sequence (e.g. a list) and generates a new sequence of the same length. Each element of the new sequence is a pair composed of the index (0, 1, 2,…) and the value from the original sequence:\n",
    "```\n",
    "for idx, val in enumerate(a_list):\n",
    "    # Do something using idx and val\n",
    "```"
   ]
  },
  {
   "cell_type": "code",
   "execution_count": null,
   "id": "0327d6f1-8bfb-4396-8160-4cf82a7c774f",
   "metadata": {},
   "outputs": [],
   "source": [
    "# write the code here to print an enumerated list --> for idx,val\n"
   ]
  },
  {
   "cell_type": "markdown",
   "id": "f4cd8ba9-b29b-4fd7-9529-2a3e3e9875dc",
   "metadata": {},
   "source": [
    "**Key points**\n",
    "<ul>\n",
    "  <li>Use <i>for variable</i> in sequence to process the elements of a sequence one at a time.</li>\n",
    "  <li>The body of a for loop must be indented.</li>\n",
    "    <li>Use <i>len(thing)</i> to determine the length of something that contains other values.</li>\n",
    "</ul>\n",
    "\n",
    "\n"
   ]
  },
  {
   "cell_type": "markdown",
   "id": "75f4db4f-3787-4842-8ea3-87962c0b703e",
   "metadata": {},
   "source": []
  }
 ],
 "metadata": {
  "kernelspec": {
   "display_name": "Python 3 (ipykernel)",
   "language": "python",
   "name": "python3"
  },
  "language_info": {
   "codemirror_mode": {
    "name": "ipython",
    "version": 3
   },
   "file_extension": ".py",
   "mimetype": "text/x-python",
   "name": "python",
   "nbconvert_exporter": "python",
   "pygments_lexer": "ipython3",
   "version": "3.8.19"
  }
 },
 "nbformat": 4,
 "nbformat_minor": 5
}
